{
  "nbformat": 4,
  "nbformat_minor": 0,
  "metadata": {
    "colab": {
      "provenance": [],
      "authorship_tag": "ABX9TyOGquwLj2sP5CpvQfoNSAon",
      "include_colab_link": true
    },
    "kernelspec": {
      "name": "python3",
      "display_name": "Python 3"
    },
    "language_info": {
      "name": "python"
    }
  },
  "cells": [
    {
      "cell_type": "markdown",
      "metadata": {
        "id": "view-in-github",
        "colab_type": "text"
      },
      "source": [
        "<a href=\"https://colab.research.google.com/github/ravi2196/cv/blob/main/All_Python_Programming_Practicals.ipynb\" target=\"_parent\"><img src=\"https://colab.research.google.com/assets/colab-badge.svg\" alt=\"Open In Colab\"/></a>"
      ]
    },
    {
      "cell_type": "code",
      "execution_count": null,
      "metadata": {
        "colab": {
          "base_uri": "https://localhost:8080/"
        },
        "id": "oKVdFaD-gn96",
        "outputId": "1897fb29-0d56-46b4-fb9d-3281f8d0c651"
      },
      "outputs": [
        {
          "output_type": "stream",
          "name": "stdout",
          "text": [
            "Hello World!!\n"
          ]
        }
      ],
      "source": [
        "#Hello World\n",
        "print('Hello World!!')"
      ]
    },
    {
      "cell_type": "code",
      "source": [
        "#Area of Rectangle\n",
        "len = int(input(\"Enter length: \"))\n",
        "wid = int(input(\"Enter width: \"))\n",
        "area = len*wid;\n",
        "print('Area = ', area)"
      ],
      "metadata": {
        "colab": {
          "base_uri": "https://localhost:8080/"
        },
        "id": "5rwKdEi7g0mH",
        "outputId": "0d098559-b2fa-414a-d60d-697326839c18"
      },
      "execution_count": null,
      "outputs": [
        {
          "output_type": "stream",
          "name": "stdout",
          "text": [
            "Enter length: 10\n",
            "Enter width: 5\n",
            "Area =  50\n"
          ]
        }
      ]
    },
    {
      "cell_type": "code",
      "source": [
        "#Area of Circle\n",
        "pie = 3.14\n",
        "radius = int(input(\"Enter the radius: \"))\n",
        "area = pie*(radius*radius)\n",
        "print('Area = ', area)"
      ],
      "metadata": {
        "colab": {
          "base_uri": "https://localhost:8080/"
        },
        "id": "osBkG4gYhSnt",
        "outputId": "9e501dd6-6f21-4959-8f20-41aa943921c1"
      },
      "execution_count": null,
      "outputs": [
        {
          "output_type": "stream",
          "name": "stdout",
          "text": [
            "Enter the radius: 7\n",
            "Area =  153.86\n"
          ]
        }
      ]
    },
    {
      "cell_type": "code",
      "source": [
        "#Volume of Cuboid\n",
        "len = int(input(\"Enter length: \"))\n",
        "wid = int(input(\"Enter width: \"))\n",
        "hei = int(input(\"Enter height: \"))\n",
        "volume = (len*wid)*hei\n",
        "print('Volume = ', volume)\n"
      ],
      "metadata": {
        "colab": {
          "base_uri": "https://localhost:8080/"
        },
        "id": "FFg7WNKghwuw",
        "outputId": "ccb15822-4bc3-4cee-b6a4-94d58406407b"
      },
      "execution_count": null,
      "outputs": [
        {
          "output_type": "stream",
          "name": "stdout",
          "text": [
            "Enter length: 10\n",
            "Enter width: 5\n",
            "Enter height: 2\n",
            "Volume =  100\n"
          ]
        }
      ]
    },
    {
      "cell_type": "code",
      "source": [
        "#Area of Triangle\n",
        "a = int(input(\"a: \"))\n",
        "b = int(input(\"b: \"))\n",
        "c = int(input(\"c: \"))\n",
        "s = (a+b+c)/2\n",
        "area = ((s*(s-a)*(s-b)*(s-c))**0.5)\n",
        "print('Area = ', area)12"
      ],
      "metadata": {
        "colab": {
          "base_uri": "https://localhost:8080/"
        },
        "id": "mkLYGpTSiFAa",
        "outputId": "ffdcb682-a5e9-4b5c-e212-f8cd26633076"
      },
      "execution_count": null,
      "outputs": [
        {
          "output_type": "stream",
          "name": "stdout",
          "text": [
            "a: 10\n",
            "b: 5\n",
            "c: 52\n",
            "Area =  (3.9449861689327054e-14+644.2651336988523j)\n"
          ]
        }
      ]
    },
    {
      "cell_type": "code",
      "source": [
        "#Factorial of a Number\n",
        "num = int(input(\"num :\"))\n",
        "fac = 1\n",
        "if num<0:\n",
        "  print(\"Not exist\")\n",
        "elif num==0:\n",
        "  print(1)\n",
        "else:\n",
        "  for i in range(1,num+1):\n",
        "    fac = fac*i\n",
        "  print('Factorial = ', fac)"
      ],
      "metadata": {
        "colab": {
          "base_uri": "https://localhost:8080/"
        },
        "id": "OALL9FEAikR0",
        "outputId": "7ec479f9-7ee2-4e60-ce0d-36d0ac3c2cde"
      },
      "execution_count": null,
      "outputs": [
        {
          "output_type": "stream",
          "name": "stdout",
          "text": [
            "num :5\n",
            "Factorial =  120\n"
          ]
        }
      ]
    },
    {
      "cell_type": "code",
      "source": [
        "#Number Pattern\n",
        "n = 5\n",
        "for i in range(1,n+1):\n",
        "  for j in range(1,i+1):\n",
        "    print(i,end = \" \")\n",
        "  print()"
      ],
      "metadata": {
        "colab": {
          "base_uri": "https://localhost:8080/"
        },
        "id": "v6i3kwdZi4dW",
        "outputId": "70d7e7b8-815d-48cc-fa44-73460aefe909"
      },
      "execution_count": null,
      "outputs": [
        {
          "output_type": "stream",
          "name": "stdout",
          "text": [
            "1 \n",
            "2 2 \n",
            "3 3 3 \n",
            "4 4 4 4 \n",
            "5 5 5 5 5 \n"
          ]
        }
      ]
    },
    {
      "cell_type": "code",
      "source": [
        "#Fabonacci Series\n",
        "terms = int(input(\"Terms:\"))\n",
        "n1,n2,count = 0,1,0\n",
        "if terms <= 0:\n",
        "  print(\"Give positive number\")\n",
        "elif terms == 1:\n",
        "  print(n1)\n",
        "else:\n",
        "  while count<terms:\n",
        "    print(n1)\n",
        "    t = n1+n2\n",
        "    n1 = n2\n",
        "    n2 = t\n",
        "    count += 1"
      ],
      "metadata": {
        "colab": {
          "base_uri": "https://localhost:8080/"
        },
        "id": "QjeFwSWMi-n3",
        "outputId": "b42f3c12-11ed-474d-9e5d-22dc55306065"
      },
      "execution_count": null,
      "outputs": [
        {
          "output_type": "stream",
          "name": "stdout",
          "text": [
            "Terms:10\n",
            "0\n",
            "1\n",
            "1\n",
            "2\n",
            "3\n",
            "5\n",
            "8\n",
            "13\n",
            "21\n",
            "34\n"
          ]
        }
      ]
    },
    {
      "cell_type": "code",
      "source": [
        "#Alphabet Printing\n",
        "def print_pattern(n):\n",
        "    for i in range(1, n + 1):\n",
        "        for j in range(1, i + 1):\n",
        "            print(chr(96 + j), end='')\n",
        "        print()\n",
        "\n",
        "def main():\n",
        "    rows = int(input(\"Enter the number of rows: \"))\n",
        "\n",
        "    print_pattern(rows)\n",
        "\n",
        "if __name__ == \"__main__\":\n",
        "    main()"
      ],
      "metadata": {
        "colab": {
          "base_uri": "https://localhost:8080/"
        },
        "id": "1LSRygZKjc9j",
        "outputId": "47e02a1b-e016-4f37-8e68-504e7937b108"
      },
      "execution_count": null,
      "outputs": [
        {
          "output_type": "stream",
          "name": "stdout",
          "text": [
            "Enter the number of rows: 5\n",
            "a\n",
            "ab\n",
            "abc\n",
            "abcd\n",
            "abcde\n"
          ]
        }
      ]
    },
    {
      "cell_type": "code",
      "source": [
        "#Power Function\n",
        "x=int(input(\"Enter the no: \"))\n",
        "n=int(input(\"Enter the power: \"))\n",
        "print('The value of', x , 'to the power', n, 'is', pow(x,n))"
      ],
      "metadata": {
        "colab": {
          "base_uri": "https://localhost:8080/"
        },
        "id": "3I-sCElYjotu",
        "outputId": "5c8445bd-cc5b-4fd6-fbab-690b96a1901e"
      },
      "execution_count": null,
      "outputs": [
        {
          "output_type": "stream",
          "name": "stdout",
          "text": [
            "Enter the no: 2\n",
            "Enter the power: 10\n",
            "The value of 2 to the power 10 is 1024\n"
          ]
        }
      ]
    },
    {
      "cell_type": "code",
      "source": [
        "#Palindrome Number\n",
        "def is_palindrome(number):\n",
        "    # Convert the number to a string\n",
        "    number_str = str(number)\n",
        "\n",
        "    # Reverse the string\n",
        "    reversed_str = number_str[::-1]\n",
        "\n",
        "    # Check if the original and reversed strings are equal\n",
        "    if number_str == reversed_str:\n",
        "        return True\n",
        "    else:\n",
        "        return False\n",
        "\n",
        "def main():\n",
        "    number = int(input(\"Enter an integer: \"))\n",
        "\n",
        "    if is_palindrome(number):\n",
        "        print(\"The number is a palindrome.\")\n",
        "    else:\n",
        "        print(\"The number is not a palindrome.\")\n",
        "\n",
        "if __name__ == \"__main__\":\n",
        "    main()"
      ],
      "metadata": {
        "colab": {
          "base_uri": "https://localhost:8080/"
        },
        "id": "N7_774W6ksLy",
        "outputId": "38399e45-49f3-4d8d-e546-7fe5eb4a8b5a"
      },
      "execution_count": null,
      "outputs": [
        {
          "output_type": "stream",
          "name": "stdout",
          "text": [
            "Enter an integer: 12321\n",
            "The number is a palindrome.\n"
          ]
        }
      ]
    },
    {
      "cell_type": "code",
      "source": [
        "#Pascal's Triangle\n",
        "def print_pascal_triangle(n):\n",
        "    for i in range(n):\n",
        "        for j in range(n - i - 1):\n",
        "            print(\" \", end=\"\")\n",
        "        for j in range(i * 2 + 1):\n",
        "            print(\"*\", end=\"\")\n",
        "        print()\n",
        "\n",
        "def main():\n",
        "    rows = 6  # Number of rows in the Pascal's triangle\n",
        "\n",
        "    print_pascal_triangle(rows)\n",
        "\n",
        "if __name__ == \"__main__\":\n",
        "    main()"
      ],
      "metadata": {
        "colab": {
          "base_uri": "https://localhost:8080/"
        },
        "id": "8fA3bjyCk5vN",
        "outputId": "184f4a6c-2c19-4fb7-97a7-44361928c16d"
      },
      "execution_count": null,
      "outputs": [
        {
          "output_type": "stream",
          "name": "stdout",
          "text": [
            "     *\n",
            "    ***\n",
            "   *****\n",
            "  *******\n",
            " *********\n",
            "***********\n"
          ]
        }
      ]
    },
    {
      "cell_type": "code",
      "source": [
        "#Prime Number\n",
        "def is_prime(number):\n",
        "    if number <= 1:\n",
        "        return False\n",
        "\n",
        "    for i in range(2, int(number ** 0.5) + 1):\n",
        "        if number % i == 0:\n",
        "            return False\n",
        "\n",
        "    return True\n",
        "\n",
        "def main():\n",
        "    number = int(input(\"Enter a positive integer: \"))\n",
        "\n",
        "    if is_prime(number):\n",
        "        print(\"The number is prime.\")\n",
        "    else:\n",
        "        print(\"The number is not prime.\")\n",
        "\n",
        "if __name__ == \"__main__\":\n",
        "    main()"
      ],
      "metadata": {
        "colab": {
          "base_uri": "https://localhost:8080/"
        },
        "id": "9P7Cxk5alD6A",
        "outputId": "894e815d-2de2-4352-de65-7c4b6f1b2f24"
      },
      "execution_count": null,
      "outputs": [
        {
          "output_type": "stream",
          "name": "stdout",
          "text": [
            "Enter a positive integer: 31\n",
            "The number is prime.\n"
          ]
        }
      ]
    },
    {
      "cell_type": "code",
      "source": [
        "#Even or Odd\n",
        "def check_even_odd(number):\n",
        "    if number % 2 == 0:\n",
        "        return \"Even\"\n",
        "    else:\n",
        "        return \"Odd\"\n",
        "\n",
        "def main():\n",
        "    number = int(input(\"Enter an integer: \"))\n",
        "\n",
        "    result = check_even_odd(number)\n",
        "    print(\"The number is\", result)\n",
        "\n",
        "if __name__ == \"__main__\":\n",
        "    main()"
      ],
      "metadata": {
        "colab": {
          "base_uri": "https://localhost:8080/"
        },
        "id": "FKP1GZvTlPLn",
        "outputId": "85db01f1-4f74-4e13-82f5-90a48d533e90"
      },
      "execution_count": null,
      "outputs": [
        {
          "output_type": "stream",
          "name": "stdout",
          "text": [
            "Enter an integer: 43\n",
            "The number is Odd\n"
          ]
        }
      ]
    },
    {
      "cell_type": "code",
      "source": [
        "#Reverse of Integer\n",
        "def reverse_integer(number):\n",
        "    reversed_number = 0\n",
        "\n",
        "    while number > 0:\n",
        "        remainder = number % 10\n",
        "        reversed_number = (reversed_number * 10) + remainder\n",
        "        number = number // 10\n",
        "\n",
        "    return reversed_number\n",
        "\n",
        "def main():\n",
        "    number = int(input(\"Enter an integer: \"))\n",
        "\n",
        "    reversed_number = reverse_integer(number)\n",
        "    print(\"The reverse of\", number, \"is:\", reversed_number)\n",
        "\n",
        "if __name__ == \"__main__\":\n",
        "    main()"
      ],
      "metadata": {
        "colab": {
          "base_uri": "https://localhost:8080/"
        },
        "id": "rtrMf0MVlXeF",
        "outputId": "4e6b98b9-e303-4a1b-fc8a-0030e980330b"
      },
      "execution_count": null,
      "outputs": [
        {
          "output_type": "stream",
          "name": "stdout",
          "text": [
            "Enter an integer: 12345\n",
            "The reverse of 12345 is: 54321\n"
          ]
        }
      ]
    },
    {
      "cell_type": "code",
      "source": [
        "class Student:\n",
        "    def __init__(self, enrollment_number, branch_name):\n",
        "        self.enrollment_number = enrollment_number\n",
        "        self.branch_name = branch_name\n",
        "\n",
        "    def display_details(self):\n",
        "        print(\"Enrollment Number:\", self.enrollment_number)\n",
        "        print(\"Branch Name:\", self.branch_name)\n",
        "\n",
        "\n",
        "def main():\n",
        "    enrollment_number = input(\"Enter the enrollment number: \")\n",
        "    branch_name = input(\"Enter the branch name: \")\n",
        "\n",
        "    student = Student(enrollment_number, branch_name)\n",
        "    student.display_details()\n",
        "\n",
        "\n",
        "if __name__ == \"__main__\":\n",
        "    main()"
      ],
      "metadata": {
        "colab": {
          "base_uri": "https://localhost:8080/"
        },
        "id": "oJBXEYYylhJ_",
        "outputId": "224f0478-8e2f-4301-8331-c167c6342d6d"
      },
      "execution_count": null,
      "outputs": [
        {
          "output_type": "stream",
          "name": "stdout",
          "text": [
            "Enter the enrollment number: 0103CS211143\n",
            "Enter the branch name: CSE\n",
            "Enrollment Number: 0103CS211143\n",
            "Branch Name: CSE\n"
          ]
        }
      ]
    },
    {
      "cell_type": "code",
      "source": [
        "class Vehicle:\n",
        "    def __init__(self, vehicle_type, brand_name, size, fuel_type):\n",
        "        self.vehicle_type = vehicle_type\n",
        "        self.brand_name = brand_name\n",
        "        self.size = size\n",
        "        self.fuel_type = fuel_type\n",
        "\n",
        "    def display_details(self):\n",
        "        print(\"Vehicle Type:\", self.vehicle_type)\n",
        "        print(\"Brand Name:\", self.brand_name)\n",
        "        print(\"Size:\", self.size)\n",
        "        print(\"Fuel Type:\", self.fuel_type)\n",
        "\n",
        "\n",
        "class TwoWheeler(Vehicle):\n",
        "    def __init__(self, brand_name, size, fuel_type):\n",
        "        super().__init__(\"Two Wheeler\", brand_name, size, fuel_type)\n",
        "\n",
        "\n",
        "class FourWheeler(Vehicle):\n",
        "    def __init__(self, brand_name, size, fuel_type):\n",
        "        super().__init__(\"Four Wheeler\", brand_name, size, fuel_type)\n",
        "\n",
        "\n",
        "def main():\n",
        "    tw = TwoWheeler(\"Honda\", \"Medium\", \"Petrol\")\n",
        "    fw = FourWheeler(\"Toyota\", \"Large\", \"CNG\")\n",
        "\n",
        "    print(\"Details of Two Wheeler:\")\n",
        "    tw.display_details()\n",
        "\n",
        "    print(\"\\nDetails of Four Wheeler:\")\n",
        "    fw.display_details()\n",
        "\n",
        "\n",
        "if __name__ == \"__main__\":\n",
        "    main()"
      ],
      "metadata": {
        "colab": {
          "base_uri": "https://localhost:8080/"
        },
        "id": "BcQJG_HClwFe",
        "outputId": "85d33b48-b7ce-488c-888f-67c29c4976e0"
      },
      "execution_count": null,
      "outputs": [
        {
          "output_type": "stream",
          "name": "stdout",
          "text": [
            "Details of Two Wheeler:\n",
            "Vehicle Type: Two Wheeler\n",
            "Brand Name: Honda\n",
            "Size: Medium\n",
            "Fuel Type: Petrol\n",
            "\n",
            "Details of Four Wheeler:\n",
            "Vehicle Type: Four Wheeler\n",
            "Brand Name: Toyota\n",
            "Size: Large\n",
            "Fuel Type: CNG\n"
          ]
        }
      ]
    }
  ]
}